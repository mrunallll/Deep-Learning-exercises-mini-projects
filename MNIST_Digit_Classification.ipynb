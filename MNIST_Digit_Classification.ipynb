{
  "nbformat": 4,
  "nbformat_minor": 0,
  "metadata": {
    "colab": {
      "name": "MNIST Digit Classification.ipynb",
      "provenance": [],
      "collapsed_sections": [],
      "authorship_tag": "ABX9TyPGQX28tbUUPi+g4pqoPwSZ",
      "include_colab_link": true
    },
    "kernelspec": {
      "name": "python3",
      "display_name": "Python 3"
    },
    "accelerator": "GPU"
  },
  "cells": [
    {
      "cell_type": "markdown",
      "metadata": {
        "id": "view-in-github",
        "colab_type": "text"
      },
      "source": [
        "<a href=\"https://colab.research.google.com/github/mrunallll/MNIST-Digit-Classfication/blob/main/MNIST_Digit_Classification.ipynb\" target=\"_parent\"><img src=\"https://colab.research.google.com/assets/colab-badge.svg\" alt=\"Open In Colab\"/></a>"
      ]
    },
    {
      "cell_type": "code",
      "metadata": {
        "id": "NLqSIxQrXtqJ"
      },
      "source": [
        "import numpy as np\r\n",
        "import pandas as pd\r\n",
        "import matplotlib.pyplot as plt\r\n",
        "from keras.datasets import mnist\r\n",
        "from keras import utils"
      ],
      "execution_count": 1,
      "outputs": []
    },
    {
      "cell_type": "markdown",
      "metadata": {
        "id": "ngGlkCgDYg99"
      },
      "source": [
        "#MNIST digit classification CNN"
      ]
    },
    {
      "cell_type": "code",
      "metadata": {
        "id": "SI8CvrPUX6D3"
      },
      "source": [
        "(X_train, y_train), (X_test, y_test) = mnist.load_data()  #loading MNIST digit data"
      ],
      "execution_count": 2,
      "outputs": []
    },
    {
      "cell_type": "markdown",
      "metadata": {
        "id": "2Gbm7HKtBozU"
      },
      "source": [
        "Feature Scaling\r\n",
        "1. Make the size of x_train and x_test (rows, 28, 28, 1 channel), and scale down pixel values of x_train and y_train\r\n",
        "2. Onehot encode y as it has labels. For eg, 3=[0,0,0,1,0,0,0,0,0,0]\r\n",
        "4. y needs to be specifically onehot encoded becuase it is given to the 10 o/p neurons. So high value will show which neuron should give high output."
      ]
    },
    {
      "cell_type": "code",
      "metadata": {
        "id": "hKAaA-GnYMPe"
      },
      "source": [
        "#Reshaping it according to the input dimension of CNN convolution layer\r\n",
        "X_train= X_train.reshape(X_train.shape[0], 28, 28, 1)\r\n",
        "X_test= X_test.reshape(X_test.shape[0], 28, 28, 1)"
      ],
      "execution_count": 3,
      "outputs": []
    },
    {
      "cell_type": "code",
      "metadata": {
        "colab": {
          "base_uri": "https://localhost:8080/",
          "height": 316
        },
        "id": "xmAB2eHAf1pl",
        "outputId": "1fbc68fb-fffe-41a5-bf17-226baac0f399"
      },
      "source": [
        "print(\"Shape of X_test\", X_test.shape)\r\n",
        "print('y[0] actual value', y_test[0])\r\n",
        "plt.imshow(X_test[0].reshape(28, 28))"
      ],
      "execution_count": 4,
      "outputs": [
        {
          "output_type": "stream",
          "text": [
            "Shape of X_test (10000, 28, 28, 1)\n",
            "y[0] actual value 7\n"
          ],
          "name": "stdout"
        },
        {
          "output_type": "execute_result",
          "data": {
            "text/plain": [
              "<matplotlib.image.AxesImage at 0x7f7bda8fc0b8>"
            ]
          },
          "metadata": {
            "tags": []
          },
          "execution_count": 4
        },
        {
          "output_type": "display_data",
          "data": {
            "image/png": "[encoded data removed]",
            "text/plain": [
              "<Figure size 432x288 with 1 Axes>"
            ]
          },
          "metadata": {
            "tags": [],
            "needs_background": "light"
          }
        }
      ]
    },
    {
      "cell_type": "code",
      "metadata": {
        "id": "Y0qG-1FAf3P_"
      },
      "source": [
        "X_train=X_train/255.0\r\n",
        "X_test=X_test/255.0"
      ],
      "execution_count": 5,
      "outputs": []
    },
    {
      "cell_type": "code",
      "metadata": {
        "id": "ZkGHp0Hcgx5k"
      },
      "source": [
        "y_train=utils.to_categorical(y_train)\r\n",
        "y_test=utils.to_categorical(y_test)"
      ],
      "execution_count": 6,
      "outputs": []
    },
    {
      "cell_type": "code",
      "metadata": {
        "id": "7limhRv6gRfH"
      },
      "source": [
        "from keras.models import Sequential\r\n",
        "from keras.layers import Dense\r\n",
        "from keras.layers import Flatten\r\n",
        "from keras.layers.convolutional import MaxPooling2D, Conv2D\r\n",
        "from keras.optimizers import SGD"
      ],
      "execution_count": 7,
      "outputs": []
    },
    {
      "cell_type": "markdown",
      "metadata": {
        "id": "6BkIyo2UB_8a"
      },
      "source": [
        "Make a convolutional and Pooling layer first, then flatten it.  \r\n",
        "This flattened layer is given as input to the further dense layer, their achitechture is similar to a simple ANN"
      ]
    },
    {
      "cell_type": "code",
      "metadata": {
        "id": "rnfNMjiCgT31"
      },
      "source": [
        "model=Sequential()\r\n",
        "#adding first layer of conv+pooling\r\n",
        "model.add(Conv2D(32, (5, 5), strides=(1, 1), padding='valid', activation='relu', input_shape= (28, 28, 1)))\r\n",
        "model.add(MaxPooling2D(pool_size=(2, 2), strides=(2, 2)))\r\n",
        "\r\n",
        "model.add(Flatten())\r\n",
        "\r\n",
        "model.add(Dense(units=100, activation='relu', kernel_initializer='normal'))    #input dim we have already mentioned in the conv layer\r\n",
        "model.add(Dense(units=10, activation='softmax', kernel_initializer='normal'))\r\n",
        "\r\n",
        "#setting a high momemntum can help in reaching the gloabl minima sooner\r\n",
        "opt = SGD(learning_rate=0.01, momentum=0.95)\r\n",
        "\r\n",
        "model.compile(loss = 'categorical_crossentropy', optimizer = opt, metrics = ['accuracy'])"
      ],
      "execution_count": 8,
      "outputs": []
    },
    {
      "cell_type": "code",
      "metadata": {
        "colab": {
          "base_uri": "https://localhost:8080/"
        },
        "id": "wec7s8uLjIZI",
        "outputId": "48430ad6-1f89-465e-f51f-c59087308c47"
      },
      "source": [
        "#Capturing history of model fitting\r\n",
        "history= model.fit(X_train, y_train, batch_size=32, epochs=15, validation_data=(X_test, y_test))"
      ],
      "execution_count": 9,
      "outputs": [
        {
          "output_type": "stream",
          "text": [
            "Epoch 1/15\n",
            "1875/1875 [==============================] - 7s 3ms/step - loss: 0.4317 - accuracy: 0.8646 - val_loss: 0.0751 - val_accuracy: 0.9774\n",
            "Epoch 2/15\n",
            "1875/1875 [==============================] - 5s 3ms/step - loss: 0.0532 - accuracy: 0.9835 - val_loss: 0.0451 - val_accuracy: 0.9852\n",
            "Epoch 3/15\n",
            "1875/1875 [==============================] - 5s 3ms/step - loss: 0.0321 - accuracy: 0.9901 - val_loss: 0.0372 - val_accuracy: 0.9879\n",
            "Epoch 4/15\n",
            "1875/1875 [==============================] - 5s 3ms/step - loss: 0.0211 - accuracy: 0.9929 - val_loss: 0.0397 - val_accuracy: 0.9878\n",
            "Epoch 5/15\n",
            "1875/1875 [==============================] - 5s 3ms/step - loss: 0.0153 - accuracy: 0.9951 - val_loss: 0.0437 - val_accuracy: 0.9868\n",
            "Epoch 6/15\n",
            "1875/1875 [==============================] - 5s 3ms/step - loss: 0.0132 - accuracy: 0.9960 - val_loss: 0.0373 - val_accuracy: 0.9894\n",
            "Epoch 7/15\n",
            "1875/1875 [==============================] - 5s 3ms/step - loss: 0.0077 - accuracy: 0.9975 - val_loss: 0.0390 - val_accuracy: 0.9882\n",
            "Epoch 8/15\n",
            "1875/1875 [==============================] - 5s 3ms/step - loss: 0.0046 - accuracy: 0.9990 - val_loss: 0.0385 - val_accuracy: 0.9891\n",
            "Epoch 9/15\n",
            "1875/1875 [==============================] - 5s 3ms/step - loss: 0.0029 - accuracy: 0.9992 - val_loss: 0.0384 - val_accuracy: 0.9900\n",
            "Epoch 10/15\n",
            "1875/1875 [==============================] - 5s 3ms/step - loss: 0.0019 - accuracy: 0.9996 - val_loss: 0.0387 - val_accuracy: 0.9903\n",
            "Epoch 11/15\n",
            "1875/1875 [==============================] - 5s 3ms/step - loss: 0.0024 - accuracy: 0.9994 - val_loss: 0.0420 - val_accuracy: 0.9902\n",
            "Epoch 12/15\n",
            "1875/1875 [==============================] - 5s 3ms/step - loss: 0.0019 - accuracy: 0.9995 - val_loss: 0.0394 - val_accuracy: 0.9904\n",
            "Epoch 13/15\n",
            "1875/1875 [==============================] - 5s 3ms/step - loss: 0.0011 - accuracy: 0.9998 - val_loss: 0.0387 - val_accuracy: 0.9911\n",
            "Epoch 14/15\n",
            "1875/1875 [==============================] - 5s 3ms/step - loss: 0.0016 - accuracy: 0.9996 - val_loss: 0.0408 - val_accuracy: 0.9903\n",
            "Epoch 15/15\n",
            "1875/1875 [==============================] - 5s 3ms/step - loss: 2.4547e-04 - accuracy: 1.0000 - val_loss: 0.0419 - val_accuracy: 0.9902\n"
          ],
          "name": "stdout"
        }
      ]
    },
    {
      "cell_type": "code",
      "metadata": {
        "id": "T7C3B4_LlOHR",
        "colab": {
          "base_uri": "https://localhost:8080/"
        },
        "outputId": "7eccd9fe-734d-459e-d7eb-06128459487c"
      },
      "source": [
        "model.summary()"
      ],
      "execution_count": 10,
      "outputs": [
        {
          "output_type": "stream",
          "text": [
            "Model: \"sequential\"\n",
            "_________________________________________________________________\n",
            "Layer (type)                 Output Shape              Param #   \n",
            "=================================================================\n",
            "conv2d (Conv2D)              (None, 24, 24, 32)        832       \n",
            "_________________________________________________________________\n",
            "max_pooling2d (MaxPooling2D) (None, 12, 12, 32)        0         \n",
            "_________________________________________________________________\n",
            "flatten (Flatten)            (None, 4608)              0         \n",
            "_________________________________________________________________\n",
            "dense (Dense)                (None, 100)               460900    \n",
            "_________________________________________________________________\n",
            "dense_1 (Dense)              (None, 10)                1010      \n",
            "=================================================================\n",
            "Total params: 462,742\n",
            "Trainable params: 462,742\n",
            "Non-trainable params: 0\n",
            "_________________________________________________________________\n"
          ],
          "name": "stdout"
        }
      ]
    },
    {
      "cell_type": "markdown",
      "metadata": {
        "id": "d16Twco3PrcT"
      },
      "source": [
        "Uploading new handwritten digit and predicting output"
      ]
    },
    {
      "cell_type": "code",
      "metadata": {
        "id": "PLdJVaF-w9Si"
      },
      "source": [
        "import cv2\r\n",
        "eight=cv2.imread('8.png', cv2.IMREAD_GRAYSCALE)\r\n",
        "eight=cv2.resize(eight, (28, 28))"
      ],
      "execution_count": 12,
      "outputs": []
    },
    {
      "cell_type": "code",
      "metadata": {
        "colab": {
          "base_uri": "https://localhost:8080/",
          "height": 282
        },
        "id": "McSjHgpsyIpM",
        "outputId": "66fcf5f2-1629-4e7e-b8da-1a6d9452db1b"
      },
      "source": [
        "plt.imshow(eight)"
      ],
      "execution_count": 13,
      "outputs": [
        {
          "output_type": "execute_result",
          "data": {
            "text/plain": [
              "<matplotlib.image.AxesImage at 0x7f7b6c01c3c8>"
            ]
          },
          "metadata": {
            "tags": []
          },
          "execution_count": 13
        },
        {
          "output_type": "display_data",
          "data": {
            "image/png": "[encoded data removed]",
            "text/plain": [
              "<Figure size 432x288 with 1 Axes>"
            ]
          },
          "metadata": {
            "tags": [],
            "needs_background": "light"
          }
        }
      ]
    },
    {
      "cell_type": "code",
      "metadata": {
        "colab": {
          "base_uri": "https://localhost:8080/"
        },
        "id": "BqEO_K1RwBv3",
        "outputId": "bc77caef-36e4-4b02-962d-bed6ff285b41"
      },
      "source": [
        "model.predict(eight.reshape(1, 28, 28, 1)).argmax()   #img is the input 28x28x1 channel=1, and 1 is the number of images"
      ],
      "execution_count": 14,
      "outputs": [
        {
          "output_type": "execute_result",
          "data": {
            "text/plain": [
              "8"
            ]
          },
          "metadata": {
            "tags": []
          },
          "execution_count": 14
        }
      ]
    },
    {
      "cell_type": "code",
      "metadata": {
        "colab": {
          "base_uri": "https://localhost:8080/"
        },
        "id": "O4fpIoZVoAB1",
        "outputId": "8514e661-72fe-4fbe-b186-757bb01117f8"
      },
      "source": [
        "X_test.shape"
      ],
      "execution_count": 25,
      "outputs": [
        {
          "output_type": "execute_result",
          "data": {
            "text/plain": [
              "(10000, 28, 28, 1)"
            ]
          },
          "metadata": {
            "tags": []
          },
          "execution_count": 25
        }
      ]
    },
    {
      "cell_type": "markdown",
      "metadata": {
        "id": "baTFf74d3iPY"
      },
      "source": [
        "#2 digit number using extended-MNIST"
      ]
    },
    {
      "cell_type": "code",
      "metadata": {
        "id": "CXRqWLt7ycfL"
      },
      "source": [
        "pip install extra-keras-datasets"
      ],
      "execution_count": null,
      "outputs": []
    },
    {
      "cell_type": "code",
      "metadata": {
        "id": "YMpFyqY33pvE"
      },
      "source": [
        "from extra_keras_datasets import emnist"
      ],
      "execution_count": null,
      "outputs": []
    },
    {
      "cell_type": "code",
      "metadata": {
        "id": "nghAPW833p7O"
      },
      "source": [
        "import numpy as np\r\n",
        "import matplotlib.pyplot as plt\r\n",
        "import pandas as pd\r\n",
        "from keras import utils"
      ],
      "execution_count": null,
      "outputs": []
    },
    {
      "cell_type": "code",
      "metadata": {
        "id": "2ofi3pSD3wqK"
      },
      "source": [
        "(x_train, y_train), (x_test, y_test) = emnist.load_data()"
      ],
      "execution_count": null,
      "outputs": []
    },
    {
      "cell_type": "code",
      "metadata": {
        "id": "m9HM-quy4Tw5"
      },
      "source": [
        "y_train=utils.to_categorical(y_train)\r\n",
        "y_test=utils.to_categorical(y_test)"
      ],
      "execution_count": null,
      "outputs": []
    },
    {
      "cell_type": "code",
      "metadata": {
        "id": "dS2P_FUO9vAj"
      },
      "source": [
        "x_train=x_train/255.0\r\n",
        "x_test=x_test/255.0"
      ],
      "execution_count": null,
      "outputs": []
    },
    {
      "cell_type": "code",
      "metadata": {
        "id": "ofG3MMZN9xYK"
      },
      "source": [
        "x_train=x_train.reshape(x_train.shape[0], 28, 28, 1)\r\n",
        "x_test=x_test.reshape(x_test.shape[0], 28, 28, 1)"
      ],
      "execution_count": null,
      "outputs": []
    },
    {
      "cell_type": "code",
      "metadata": {
        "id": "7e3F_hz395hd"
      },
      "source": [
        "from keras.models import Sequential\r\n",
        "from keras.layers import Dense\r\n",
        "from keras.layers import Flatten\r\n",
        "from keras.layers.convolutional import MaxPooling2D, Conv2D"
      ],
      "execution_count": null,
      "outputs": []
    },
    {
      "cell_type": "code",
      "metadata": {
        "id": "yGMiorb7-BSd"
      },
      "source": [
        "model=Sequential()\r\n",
        "model.add(Conv2D(32, (5, 5), strides=(1, 1), padding='valid', activation='relu', input_shape= (28, 28, 1)))\r\n",
        "model.add(MaxPooling2D(pool_size=(2, 2), strides=(2, 2)))\r\n",
        "\r\n",
        "model.add(Flatten())\r\n",
        "\r\n",
        "model.add(Dense(units=50, activation='relu', kernel_initializer='normal'))    #input dim we have already mentioned in the conv layer\r\n",
        "model.add(Dense(units=47, activation='softmax', kernel_initializer='normal'))\r\n",
        "\r\n",
        "model.compile(loss = 'categorical_crossentropy', optimizer = 'adam', metrics = ['accuracy'])"
      ],
      "execution_count": null,
      "outputs": []
    },
    {
      "cell_type": "code",
      "metadata": {
        "colab": {
          "base_uri": "https://localhost:8080/"
        },
        "id": "is0e9IPsBCgH",
        "outputId": "34e35daf-3568-45e7-f7b2-68b99d5943c7"
      },
      "source": [
        "model.fit(x_train, y_train, batch_size=256, epochs=10, validation_data=(x_test, y_test))"
      ],
      "execution_count": null,
      "outputs": [
        {
          "output_type": "stream",
          "text": [
            "Epoch 1/10\n",
            "441/441 [==============================] - 44s 99ms/step - loss: 1.9049 - accuracy: 0.4899 - val_loss: 0.7550 - val_accuracy: 0.7731\n",
            "Epoch 2/10\n",
            "441/441 [==============================] - 44s 99ms/step - loss: 0.6788 - accuracy: 0.7902 - val_loss: 0.5866 - val_accuracy: 0.8158\n",
            "Epoch 3/10\n",
            "441/441 [==============================] - 44s 99ms/step - loss: 0.5326 - accuracy: 0.8286 - val_loss: 0.5290 - val_accuracy: 0.8257\n",
            "Epoch 4/10\n",
            "441/441 [==============================] - 44s 99ms/step - loss: 0.4747 - accuracy: 0.8430 - val_loss: 0.4976 - val_accuracy: 0.8377\n",
            "Epoch 5/10\n",
            "441/441 [==============================] - 44s 99ms/step - loss: 0.4456 - accuracy: 0.8504 - val_loss: 0.4867 - val_accuracy: 0.8404\n",
            "Epoch 6/10\n",
            "441/441 [==============================] - 43s 98ms/step - loss: 0.4216 - accuracy: 0.8574 - val_loss: 0.4699 - val_accuracy: 0.8472\n",
            "Epoch 7/10\n",
            "441/441 [==============================] - 43s 98ms/step - loss: 0.3982 - accuracy: 0.8625 - val_loss: 0.4595 - val_accuracy: 0.8503\n",
            "Epoch 8/10\n",
            "441/441 [==============================] - 43s 99ms/step - loss: 0.3929 - accuracy: 0.8658 - val_loss: 0.4588 - val_accuracy: 0.8510\n",
            "Epoch 9/10\n",
            "441/441 [==============================] - 43s 98ms/step - loss: 0.3736 - accuracy: 0.8706 - val_loss: 0.4534 - val_accuracy: 0.8498\n",
            "Epoch 10/10\n",
            "441/441 [==============================] - 43s 98ms/step - loss: 0.3616 - accuracy: 0.8746 - val_loss: 0.4496 - val_accuracy: 0.8519\n"
          ],
          "name": "stdout"
        },
        {
          "output_type": "execute_result",
          "data": {
            "text/plain": [
              "<tensorflow.python.keras.callbacks.History at 0x7f6a0df624a8>"
            ]
          },
          "metadata": {
            "tags": []
          },
          "execution_count": 23
        }
      ]
    },
    {
      "cell_type": "markdown",
      "metadata": {
        "id": "bdM69bElFsXl"
      },
      "source": [
        "Predicting test set results"
      ]
    },
    {
      "cell_type": "code",
      "metadata": {
        "colab": {
          "base_uri": "https://localhost:8080/"
        },
        "id": "md11ra4QBGOa",
        "outputId": "a9eb267e-3b8e-449c-9b56-6156d0f5ccb7"
      },
      "source": [
        "print('0th pred', model.predict(x_test[0].reshape(1, 28, 28, 1)).argmax())\r\n",
        "print('81st pred', model.predict(x_test[81].reshape(1, 28, 28, 1)).argmax()) \r\n",
        "print('69th pred', model.predict(x_test[69].reshape(1, 28, 28, 1)).argmax())\r\n",
        "print('19th pred', model.predict(x_test[19].reshape(1, 28, 28, 1)).argmax())"
      ],
      "execution_count": null,
      "outputs": [
        {
          "output_type": "stream",
          "text": [
            "0th pred 41\n",
            "81st pred 17\n",
            "69th pred 36\n",
            "19th pred 45\n"
          ],
          "name": "stdout"
        }
      ]
    },
    {
      "cell_type": "code",
      "metadata": {
        "colab": {
          "base_uri": "https://localhost:8080/"
        },
        "id": "k4ISIwPBEvBm",
        "outputId": "3583b2dd-99a0-4666-da31-a646d89002ab"
      },
      "source": [
        "print('0th actual', y_test[0].argmax())\r\n",
        "print('81th actual', y_test[81].argmax())\r\n",
        "print('69th actual', y_test[69].argmax())\r\n",
        "print('19th actual', y_test[19].argmax())"
      ],
      "execution_count": null,
      "outputs": [
        {
          "output_type": "stream",
          "text": [
            "0th actual 41\n",
            "81th actual 17\n",
            "69th actual 36\n",
            "19th actual 45\n"
          ],
          "name": "stdout"
        }
      ]
    },
    {
      "cell_type": "markdown",
      "metadata": {
        "id": "wRTzBe1fGjvb"
      },
      "source": [
        "Predicting a customized out of data image"
      ]
    },
    {
      "cell_type": "code",
      "metadata": {
        "colab": {
          "base_uri": "https://localhost:8080/",
          "height": 286
        },
        "id": "WDow9oO5HBNu",
        "outputId": "a0db9205-3f0f-4954-ee22-3918de6f930b"
      },
      "source": [
        "import cv2\r\n",
        "number=cv2.imread('8.png', cv2.IMREAD_GRAYSCALE)\r\n",
        "plt.imshow(number)"
      ],
      "execution_count": null,
      "outputs": [
        {
          "output_type": "execute_result",
          "data": {
            "text/plain": [
              "<matplotlib.image.AxesImage at 0x7f6a0161dc50>"
            ]
          },
          "metadata": {
            "tags": []
          },
          "execution_count": 48
        },
        {
          "output_type": "display_data",
          "data": {
            "image/png": "[encoded data removed]",
            "text/plain": [
              "<Figure size 432x288 with 1 Axes>"
            ]
          },
          "metadata": {
            "tags": [],
            "needs_background": "light"
          }
        }
      ]
    },
    {
      "cell_type": "code",
      "metadata": {
        "colab": {
          "base_uri": "https://localhost:8080/"
        },
        "id": "gnrU005KRsAg",
        "outputId": "fb7fe6be-5579-4e16-a27a-143f367b8669"
      },
      "source": [
        "number.resize(28, 28)\r\n",
        "model.predict(number.reshape(1, 28, 28, 1)).argmax()"
      ],
      "execution_count": null,
      "outputs": [
        {
          "output_type": "execute_result",
          "data": {
            "text/plain": [
              "18"
            ]
          },
          "metadata": {
            "tags": []
          },
          "execution_count": 51
        }
      ]
    },
    {
      "cell_type": "code",
      "metadata": {
        "colab": {
          "base_uri": "https://localhost:8080/",
          "height": 286
        },
        "id": "736g0iuoFJdG",
        "outputId": "0656e7b3-ce6d-4347-a32b-2f88eb9cbc20"
      },
      "source": [
        "number=cv2.imread('41.png', cv2.IMREAD_GRAYSCALE)\r\n",
        "plt.imshow(number)"
      ],
      "execution_count": null,
      "outputs": [
        {
          "output_type": "execute_result",
          "data": {
            "text/plain": [
              "<matplotlib.image.AxesImage at 0x7f6a01715cc0>"
            ]
          },
          "metadata": {
            "tags": []
          },
          "execution_count": 43
        },
        {
          "output_type": "display_data",
          "data": {
            "image/png": "[encoded data removed]",
            "text/plain": [
              "<Figure size 432x288 with 1 Axes>"
            ]
          },
          "metadata": {
            "tags": [],
            "needs_background": "light"
          }
        }
      ]
    },
    {
      "cell_type": "code",
      "metadata": {
        "colab": {
          "base_uri": "https://localhost:8080/"
        },
        "id": "X_5vvU8DFo6o",
        "outputId": "9a3664eb-c877-4f56-9dda-b6f238652228"
      },
      "source": [
        "number.resize(28, 28)\r\n",
        "model.predict(number.reshape(1, 28, 28, 1)).argmax()"
      ],
      "execution_count": null,
      "outputs": [
        {
          "output_type": "execute_result",
          "data": {
            "text/plain": [
              "18"
            ]
          },
          "metadata": {
            "tags": []
          },
          "execution_count": 47
        }
      ]
    },
    {
      "cell_type": "code",
      "metadata": {
        "colab": {
          "base_uri": "https://localhost:8080/"
        },
        "id": "euB4I7nyG4pR",
        "outputId": "7d77f2d5-cd68-44d0-92dc-43bfe491dc21"
      },
      "source": [
        "number.shape"
      ],
      "execution_count": null,
      "outputs": [
        {
          "output_type": "execute_result",
          "data": {
            "text/plain": [
              "(28, 28)"
            ]
          },
          "metadata": {
            "tags": []
          },
          "execution_count": 46
        }
      ]
    },
    {
      "cell_type": "code",
      "metadata": {
        "colab": {
          "base_uri": "https://localhost:8080/"
        },
        "id": "lFe7yHdYV2ry",
        "outputId": "c1f3e75b-9fc6-4e1a-c270-fb8893bc4d50"
      },
      "source": [
        "y_train.dtype"
      ],
      "execution_count": null,
      "outputs": [
        {
          "output_type": "execute_result",
          "data": {
            "text/plain": [
              "dtype('float32')"
            ]
          },
          "metadata": {
            "tags": []
          },
          "execution_count": 53
        }
      ]
    },
    {
      "cell_type": "code",
      "metadata": {
        "id": "wosfXE0uV6wt"
      },
      "source": [
        ""
      ],
      "execution_count": null,
      "outputs": []
    }
  ]
}